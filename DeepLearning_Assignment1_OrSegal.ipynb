{
 "cells": [
  {
   "cell_type": "markdown",
   "metadata": {},
   "source": [
    "# IL181.007 - Deep Learning - Assignment 1\n",
    "### _Or Segal_\n",
    "\n",
    "In this assignment, we will implement a simple neural network to predict the survival of passengers on board the Titanic using only Numpy (other libraries will be used when we'll get to the pre-processing, but that does not count..!). First, we will show the implementation of the forward calculation, gradient calculation, and the updating of the weights. We will then pre-process the titanic data from Kaggle, and use the network we have built to predict survival.\n",
    "\n",
    "Several tutorials were used as resources, all of their links can be found in the References."
   ]
  },
  {
   "cell_type": "markdown",
   "metadata": {},
   "source": [
    "## Neural Network Implementation\n",
    "\n",
    "We will first implement the two activation functions that we will be using, sigmoid and ReLU, as well as their derivatives for the backward propagation. We will follow the notation from Goodfellow, Bengio, and Courville (2016).\n",
    "\n",
    "$$\\begin{align}\n",
    "\\sigma(z) = \\frac{1}{1 + e^{-x}} \\quad &\\Rightarrow \\quad \\frac{d}{dz} \\sigma(z) = \\sigma(z)(1 - \\sigma(z)) \\\\\n",
    "g(z) = max(0, z) \\quad &\\Rightarrow \\quad \\frac{d}{dz} g(z) = \\begin{cases}\n",
    "1, \\quad \\textrm{if } x>0 \\\\\n",
    "0, \\quad \\textrm{otherwise}\n",
    "\\end{cases}\n",
    "\\end{align}$$"
   ]
  },
  {
   "cell_type": "code",
   "execution_count": 46,
   "metadata": {},
   "outputs": [],
   "source": [
    "import numpy as np\n",
    "import pandas as pd\n",
    "import matplotlib.pyplot as plt\n",
    "\n",
    "plt.style.use('ggplot')"
   ]
  },
  {
   "cell_type": "code",
   "execution_count": 2,
   "metadata": {},
   "outputs": [],
   "source": [
    "def sigmoid(z):\n",
    "    return 1/(1 + np.exp(-z))\n",
    "\n",
    "def relu(z):\n",
    "    return np.maximum(0, z)\n",
    "\n",
    "def sigmoid_deriv(dA, z):\n",
    "    sig_z = sigmoid(z)\n",
    "    return dA * sig_z * (1 - sig_z)\n",
    "\n",
    "def relu_deriv(dA, z):\n",
    "    dz = np.array(dA, copy=True)\n",
    "    dz[z <= 0] = 0\n",
    "    return dz"
   ]
  },
  {
   "cell_type": "markdown",
   "metadata": {},
   "source": [
    "We will now implement the cost function, using the cross entropy loss:\n",
    "$$J(\\Theta) = -\\mathbb{E}_{\\mathbf{x}, \\mathbf{y} \\sim \\hat{p}_{data}}\\log p_{model}(y | x)$$\n",
    "or in its binary form:\n",
    "$$J(\\Theta) = - \\frac{1}{m} \\sum^m_{i=0} \\Big( y^{(i)} \\log (\\hat{y}^{(i)}) + (1 - y^{(i)}) \\log (1 - \\hat{y}^{(i)}) \\Big)$$"
   ]
  },
  {
   "cell_type": "code",
   "execution_count": 310,
   "metadata": {},
   "outputs": [],
   "source": [
    "def calculate_cost(Y_hat, Y):\n",
    "    cost = -1/Y_hat.shape[1] * (np.dot(Y, np.log(Y_hat).T) + \n",
    "                                np.dot((1 - Y), np.log(1 - Y_hat).T))\n",
    "    return np.squeeze(cost)"
   ]
  },
  {
   "cell_type": "markdown",
   "metadata": {},
   "source": [
    "We will implement the neural network as a class as it will be convenient for information storage accross functions and an easier operation using the methods. Each layer is added with the `add_layer` method, which stores its details in an architecture dictionary and initiates its weights randomly.\n",
    "\n",
    "The `forward_calculation` method follows the architecture dictionary and uses the activation functions that we have implemented (they are also copies as methods in the class). The vector of inputs $\\mathbf{x}$, is used to compute an affine transformation $\\mathbf{z} = \\mathbf{W}\\mathbf{x} + \\mathbf{b}$, which is then passed to the activation function.\n",
    "\n",
    "The `back_propagation` method follows the reversed order of the architecture and calculates the gradients of the loss with respect to the output of the layer, weights, and biases, and propagates to the next lower-level layer:\n",
    "$$\\begin{align}\n",
    "\\nabla_{\\mathbf{Z}^{[l]}} J &= \\nabla_{\\mathbf{A}^{[l]}} J \\cdot g'(\\mathbf{Z}^{[l]}) \\\\\n",
    "\\nabla_{\\mathbf{b}^{[l]}} J &= \\frac{1}{m} \\sum^m_{i=1} \\nabla_{\\mathbf{Z}^{[l](i)}} J \\\\\n",
    "\\nabla_{\\mathbf{W}^{[l]}} J &= \\frac{1}{m} \\nabla_{\\mathbf{Z}^{[l]}} J \\cdot \\mathbf{A}^{[l - 1]T}\\\\\n",
    "\\nabla_{\\mathbf{A}^{[l - 1]}} J &= \\mathbf{A}^{[l]T} \\cdot \\nabla_{\\mathbf{Z}^{[l]}} J\n",
    "\\end{align}$$\n",
    "\n",
    "Finally, the `train` method performs the entire calculation - forward calculation, back propagation, and updating of the parameters with a defined learning rate - and iterates over these stages."
   ]
  },
  {
   "cell_type": "code",
   "execution_count": 339,
   "metadata": {},
   "outputs": [],
   "source": [
    "class NeuralNetwork(object):\n",
    "    \n",
    "    def __init__(self):\n",
    "        self.architecture = [] # Layer structure \n",
    "        self.paramValues = {} # Ongoing parameter values (W, b)\n",
    "        \n",
    "        self.randomSeed = 23\n",
    "    \n",
    "    def add_layer(self, inputSize, outputSize, activation):\n",
    "        np.random.seed(self.randomSeed)\n",
    "        \n",
    "        # Make sure that we support the activation function (relu or sigmoid for now)\n",
    "        if activation not in [\"relu\", \"sigmoid\"]:\n",
    "            raise Exception(\"The activation function is not supported\")\n",
    "        \n",
    "        # Store the details of the new layer\n",
    "        self.architecture.append({\"inputSize\": inputSize,\n",
    "                                  \"outputSize\": outputSize, \n",
    "                                  \"activation\": activation})\n",
    "        \n",
    "        # Initialize parameters for the new layer\n",
    "        layerIndex = len(self.architecture)\n",
    "        self.paramValues[\"W\"+str(layerIndex)] = np.random.randn(outputSize, inputSize) * 0.1\n",
    "        self.paramValues[\"b\"+str(layerIndex)] = np.random.randn(outputSize, 1) * 0.1\n",
    "    \n",
    "    def sigmoid(self, z):\n",
    "        return 1/(1 + np.exp(-z))\n",
    "\n",
    "    def relu(self, z):\n",
    "        return np.maximum(0, z)\n",
    "\n",
    "    def sigmoid_deriv(self, dA, z):\n",
    "        sig_z = sigmoid(z)\n",
    "        return dA * sig_z * (1 - sig_z)\n",
    "\n",
    "    def relu_deriv(self, dA, z):\n",
    "        dz = np.array(dA, copy=True)\n",
    "        dz[z <= 0] = 0\n",
    "        return dz\n",
    "    \n",
    "    def forward_calculation(self):\n",
    "        self.layerValues = {}\n",
    "        A = self.X\n",
    "        layerIndex = 1\n",
    "        for layer in self.architecture:\n",
    "            self.layerValues[\"A\"+str(layerIndex-1)] = A\n",
    "            \n",
    "            if layer[\"activation\"] == \"relu\":\n",
    "                activation_func = self.relu\n",
    "            elif layer[\"activation\"] == \"sigmoid\":\n",
    "                activation_func = self.sigmoid\n",
    "            \n",
    "            W = self.paramValues[\"W\"+str(layerIndex)]\n",
    "            b = self.paramValues[\"b\"+str(layerIndex)]\n",
    "            Z = np.dot(W, A) + b\n",
    "            self.layerValues[\"Z\"+str(layerIndex)] = Z\n",
    "            A = activation_func(Z)\n",
    "            \n",
    "            layerIndex += 1\n",
    "        \n",
    "        self.Y_hat = A\n",
    "        \n",
    "    def back_propagation(self):\n",
    "        self.gradientValues = {}\n",
    "        self.Y = self.Y.reshape(self.Y_hat.shape)\n",
    "        layerIndex = len(self.architecture)\n",
    "        \n",
    "        dA_lastLayer = (1 - self.Y)/(1 - self.Y_hat) - self.Y/self.Y_hat\n",
    "        \n",
    "        for layer in reversed(self.architecture):\n",
    "            A_lastLayer = self.layerValues[\"A\"+str(layerIndex-1)]\n",
    "            Z = self.layerValues[\"Z\"+str(layerIndex)]\n",
    "            W = self.paramValues[\"W\"+str(layerIndex)]\n",
    "            b = self.paramValues[\"b\"+str(layerIndex)]\n",
    "            m = A_lastLayer.shape[1]\n",
    "            \n",
    "            if layer[\"activation\"] == \"relu\":\n",
    "                activation_func_deriv = self.relu_deriv\n",
    "            elif layer[\"activation\"] == \"sigmoid\":\n",
    "                activation_func_deriv = self.sigmoid_deriv\n",
    "                \n",
    "            dZ = activation_func_deriv(dA_lastLayer, Z)\n",
    "            db = np.sum(dZ, axis=1, keepdims=True) / m\n",
    "            dW = np.dot(dZ, A_lastLayer.T) / m\n",
    "            dA_lastLayer = np.dot(W.T, dZ)\n",
    "            \n",
    "            self.gradientValues[\"dW\"+str(layerIndex)] = dW\n",
    "            self.gradientValues[\"db\"+str(layerIndex)] = db\n",
    "            \n",
    "            layerIndex -= 1\n",
    "        \n",
    "    def update_params(self):\n",
    "        for layerIndex in range(1, len(self.architecture)+1):\n",
    "            self.paramValues[\"W\"+str(layerIndex)] -= self.learning_rate * self.gradientValues[\"dW\"+str(layerIndex)]\n",
    "            self.paramValues[\"b\"+str(layerIndex)] -= self.learning_rate * self.gradientValues[\"db\"+str(layerIndex)]\n",
    "            \n",
    "    def train(self, X, Y, epochs, learning_rate):\n",
    "        self.X = X\n",
    "        self.Y = Y\n",
    "        self.epochs = epochs\n",
    "        self.learning_rate = learning_rate\n",
    "        self.cost_history = []\n",
    "        self.accuracy_history = []\n",
    "        \n",
    "        for i in range(self.epochs):\n",
    "            self.forward_calculation()\n",
    "            self.cost_history.append(calculate_cost(self.Y_hat, self.Y))\n",
    "            self.accuracy_history.append(calculate_accuracy(self.Y_hat, self.Y))\n",
    "            self.back_propagation()\n",
    "            self.update_params()\n",
    "            if i % 1000 == 0:\n",
    "                print(\"Epoch {i}: Cost = {cost:.2f}, Accuracy = {accuracy:.2f}\".format(i=i, cost=self.cost_history[-1],\n",
    "                                                                                      accuracy=self.accuracy_history[-1]))\n",
    "    \n",
    "    def predict(self, X_pred):\n",
    "        A = X_pred\n",
    "        layerIndex = 1\n",
    "        for layer in self.architecture:           \n",
    "            if layer[\"activation\"] == \"relu\":\n",
    "                activation_func = self.relu\n",
    "            elif layer[\"activation\"] == \"sigmoid\":\n",
    "                activation_func = self.sigmoid\n",
    "            \n",
    "            W = self.paramValues[\"W\"+str(layerIndex)]\n",
    "            b = self.paramValues[\"b\"+str(layerIndex)]\n",
    "            Z = np.dot(W, A) + b\n",
    "            self.layerValues[\"Z\"+str(layerIndex)] = Z\n",
    "            A = activation_func(Z)\n",
    "            \n",
    "            layerIndex += 1\n",
    "        \n",
    "        return A"
   ]
  },
  {
   "cell_type": "markdown",
   "metadata": {},
   "source": [
    "Finally, we will need a way to test the accuracy:"
   ]
  },
  {
   "cell_type": "code",
   "execution_count": 311,
   "metadata": {},
   "outputs": [],
   "source": [
    "def calculate_accuracy(Y_hat, Y):\n",
    "    Y_hat_copy = np.copy(Y_hat)\n",
    "    Y_hat_copy[Y_hat_copy > 0.5] = 1\n",
    "    Y_hat_copy[Y_hat_copy < 0.5] = 0\n",
    "    on_top = (Y_hat_copy.astype(int) == Y)\n",
    "    return sum(on_top[0])/len(on_top[0])"
   ]
  },
  {
   "cell_type": "markdown",
   "metadata": {},
   "source": [
    "## Test on Titanic\n",
    "\n",
    "We will now test our implementation with the Titanic dataset from Kaggle. \n",
    "\n",
    "For the pre-processing of the data, we will use an adaptation of the method described in the following tutorial: \n",
    "https://www.kaggle.com/jamesleslie/titanic-neural-network-for-beginners. "
   ]
  },
  {
   "cell_type": "code",
   "execution_count": 318,
   "metadata": {},
   "outputs": [
    {
     "name": "stdout",
     "output_type": "stream",
     "text": [
      "(891, 9) (891,)\n",
      "(713, 9) (178, 9) (713, 1) (178, 1)\n"
     ]
    }
   ],
   "source": [
    "from sklearn.preprocessing import scale, StandardScaler\n",
    "\n",
    "\n",
    "# Input data files are available in the \"../input/\" directory.\n",
    "df_train_full = pd.read_csv(\"train.csv\", index_col=\"PassengerId\")\n",
    "df_test = pd.read_csv(\"test.csv\", index_col=\"PassengerId\")\n",
    "\n",
    "\n",
    "# We won't be using these now\n",
    "df_train = df_train_full.drop(['Name', 'Ticket', 'Cabin', 'Survived'], axis=1)\n",
    "\n",
    "# we need sex to be int\n",
    "for dataset in (df_train, df_test):\n",
    "    dataset['Sex'] = dataset['Sex'].map( {'female': 1, 'male': 0} ).astype(int)\n",
    "    dataset['Embarked'] = pd.Categorical(dataset['Embarked'])\n",
    "\n",
    "df_train = pd.concat([df_train, pd.get_dummies(df_train['Embarked'], prefix='Embarked')], axis=1)\n",
    "df_test = pd.concat([df_test, pd.get_dummies(df_test['Embarked'], prefix='Embarked')], axis=1)\n",
    "del df_train['Embarked']\n",
    "del df_test['Embarked']\n",
    "    \n",
    "# The lazy version for filling the missing ages\n",
    "df_train.Age.fillna(df_train.Age.mean(), inplace=True)\n",
    "\n",
    "# Scale continuous features\n",
    "scaler = StandardScaler()\n",
    "features_to_scale = ['Age', 'Fare', 'Parch', 'Pclass']\n",
    "\n",
    "for var in features_to_scale:\n",
    "    df_train[var] = df_train[var].astype('float64')\n",
    "    df_train[var] = scaler.fit_transform(df_train[var].values.reshape(-1, 1))\n",
    "    \n",
    "\n",
    "X = df_train\n",
    "y = df_train_full['Survived'].values\n",
    "print(X.shape, y.shape)\n",
    "y = y.reshape(y.size, 1)\n",
    "\n",
    "# split the data to get accuracy\n",
    "eighty = round(len(X) * .8)\n",
    "X_train, X_test = X[:eighty], X[eighty:]\n",
    "y_train, y_test = y[:eighty], y[eighty:]\n",
    "print(X_train.shape, X_test.shape, y_train.shape, y_test.shape)"
   ]
  },
  {
   "cell_type": "code",
   "execution_count": 341,
   "metadata": {},
   "outputs": [
    {
     "name": "stdout",
     "output_type": "stream",
     "text": [
      "Epoch 0: Cost = 0.68, Accuracy = 0.61\n",
      "Epoch 1000: Cost = 0.67, Accuracy = 0.61\n",
      "Epoch 2000: Cost = 0.43, Accuracy = 0.81\n",
      "Epoch 3000: Cost = 0.40, Accuracy = 0.83\n",
      "Epoch 4000: Cost = 0.39, Accuracy = 0.84\n",
      "Epoch 5000: Cost = 0.38, Accuracy = 0.85\n",
      "Epoch 6000: Cost = 0.37, Accuracy = 0.86\n",
      "Epoch 7000: Cost = 0.36, Accuracy = 0.86\n",
      "Epoch 8000: Cost = 0.35, Accuracy = 0.86\n",
      "Epoch 9000: Cost = 0.33, Accuracy = 0.86\n",
      "CPU times: user 23.3 s, sys: 1.77 s, total: 25.1 s\n",
      "Wall time: 23.3 s\n"
     ]
    }
   ],
   "source": [
    "%%time\n",
    "# Let's see how the network performs!\n",
    "\n",
    "nn = NeuralNetwork()\n",
    "nn.add_layer(9, 9, \"relu\")\n",
    "nn.add_layer(9, 9, \"relu\")\n",
    "nn.add_layer(9, 5, \"relu\")\n",
    "nn.add_layer(5, 1, \"sigmoid\")\n",
    "nn.train(X_train.T, y_train.T, 10000, 0.1)"
   ]
  },
  {
   "cell_type": "code",
   "execution_count": 342,
   "metadata": {},
   "outputs": [
    {
     "name": "stdout",
     "output_type": "stream",
     "text": [
      "(1, 178) (1, 178)\n",
      "Accuracy on test data:  0.85\n"
     ]
    }
   ],
   "source": [
    "y_pred = nn.predict(X_test.T)\n",
    "\n",
    "print(y_test.T.shape, y_pred.shape)\n",
    "print(\"Accuracy on test data: \", round(calculate_accuracy(y_pred, y_test.T), 2))"
   ]
  },
  {
   "cell_type": "code",
   "execution_count": 343,
   "metadata": {},
   "outputs": [
    {
     "data": {
      "image/png": "[encoded data removed]",
      "text/plain": [
       "<Figure size 432x288 with 1 Axes>"
      ]
     },
     "metadata": {},
     "output_type": "display_data"
    }
   ],
   "source": [
    "plt.plot(range(nn.epochs), nn.accuracy_history)\n",
    "plt.show()"
   ]
  },
  {
   "cell_type": "markdown",
   "metadata": {},
   "source": [
    "As we can see, we got a very decent accuracy of 0.86 on the training set and 0.85 on the test data.\n",
    "This could probably be improved with some work on tuning the parameters, but for the purposes of this assignment it is satisfactory as it shows that our implementation of a network is functional.\n",
    "\n",
    "\n",
    "## References\n",
    "\n",
    "Chapter 6 of Goodfellow, I., Bengio, Y., & Courville, A. (2016).Deep learning. MIT press.Chicago Retrieved from  http://www.deeplearningbook.org/contents/mlp.html \n",
    "\n",
    "** Tutorials **\n",
    "* https://towardsdatascience.com/lets-code-a-neural-network-in-plain-numpy-ae7e74410795\n",
    "* https://towardsdatascience.com/neural-net-from-scratch-using-numpy-71a31f6e3675\n",
    "* https://www.kaggle.com/jamesleslie/titanic-neural-network-for-beginners"
   ]
  }
 ],
 "metadata": {
  "kernelspec": {
   "display_name": "Python 3",
   "language": "python",
   "name": "python3"
  },
  "language_info": {
   "codemirror_mode": {
    "name": "ipython",
    "version": 3
   },
   "file_extension": ".py",
   "mimetype": "text/x-python",
   "name": "python",
   "nbconvert_exporter": "python",
   "pygments_lexer": "ipython3",
   "version": "3.6.8"
  }
 },
 "nbformat": 4,
 "nbformat_minor": 2
}
