{
 "cells": [
  {
   "cell_type": "code",
   "execution_count": 1,
   "metadata": {},
   "outputs": [],
   "source": [
    "import cobra\n",
    "import cobra.test\n",
    "import matplotlib.pyplot as plt\n",
    "import numpy as np\n",
    "import seaborn as sns; sns.set()\n",
    "import pandas as pd\n",
    "import math\n",
    "import random\n",
    "from os import walk\n",
    "\n",
    "pd.options.mode.chained_assignment = None  # default='warn'\n"
   ]
  },
  {
   "cell_type": "code",
   "execution_count": 13,
   "metadata": {},
   "outputs": [
    {
     "data": {
      "text/html": [
       "\n",
       "        <table>\n",
       "            <tr>\n",
       "                <td><strong>Name</strong></td>\n",
       "                <td>model</td>\n",
       "            </tr><tr>\n",
       "                <td><strong>Memory address</strong></td>\n",
       "                <td>0x0107ea2d68</td>\n",
       "            </tr><tr>\n",
       "                <td><strong>Number of metabolites</strong></td>\n",
       "                <td>1011</td>\n",
       "            </tr><tr>\n",
       "                <td><strong>Number of reactions</strong></td>\n",
       "                <td>1138</td>\n",
       "            </tr><tr>\n",
       "                <td><strong>Objective expression</strong></td>\n",
       "                <td>-1.0*biomass205_reverse_3c9be + 1.0*biomass205</td>\n",
       "            </tr><tr>\n",
       "                <td><strong>Compartments</strong></td>\n",
       "                <td>c, e</td>\n",
       "            </tr>\n",
       "          </table>"
      ],
      "text/plain": [
       "<Model model at 0x107ea2d68>"
      ]
     },
     "execution_count": 13,
     "metadata": {},
     "output_type": "execute_result"
    }
   ],
   "source": [
    "### Western diet model \n",
    "file_name = \"Lactobacillus_rhamnosus_GG_ATCC_53103.mat\"\n",
    "modelWE = cobra.io.load_matlab_model(\"Agora-1.02-Western/mat/\" + file_name)\n",
    "modelWE"
   ]
  },
  {
   "cell_type": "code",
   "execution_count": 14,
   "metadata": {},
   "outputs": [
    {
     "data": {
      "text/html": [
       "\n",
       "        <table>\n",
       "            <tr>\n",
       "                <td><strong>Name</strong></td>\n",
       "                <td>model</td>\n",
       "            </tr><tr>\n",
       "                <td><strong>Memory address</strong></td>\n",
       "                <td>0x01a211792b0</td>\n",
       "            </tr><tr>\n",
       "                <td><strong>Number of metabolites</strong></td>\n",
       "                <td>1011</td>\n",
       "            </tr><tr>\n",
       "                <td><strong>Number of reactions</strong></td>\n",
       "                <td>1138</td>\n",
       "            </tr><tr>\n",
       "                <td><strong>Objective expression</strong></td>\n",
       "                <td>-1.0*biomass205_reverse_3c9be + 1.0*biomass205</td>\n",
       "            </tr><tr>\n",
       "                <td><strong>Compartments</strong></td>\n",
       "                <td>c, e</td>\n",
       "            </tr>\n",
       "          </table>"
      ],
      "text/plain": [
       "<Model model at 0x1a211792b0>"
      ]
     },
     "execution_count": 14,
     "metadata": {},
     "output_type": "execute_result"
    }
   ],
   "source": [
    "### High fiber diet model \n",
    "modelHF = cobra.io.load_matlab_model(\"Agora-1.02-HighFiber/mat/\" + file_name)\n",
    "modelHF"
   ]
  },
  {
   "cell_type": "code",
   "execution_count": null,
   "metadata": {},
   "outputs": [],
   "source": [
    "# Iterate through the the objects in the model\n",
    "def printModelObjects(model):\n",
    "    print(\"Reactions\")\n",
    "    print(\"---------\")\n",
    "    for x in model.reactions:\n",
    "        print(\"%s : %s\" % (x.id, x.reaction))\n",
    "\n",
    "    print(\"\")\n",
    "    print(\"Metabolites\")\n",
    "    print(\"-----------\")\n",
    "    for x in model.metabolites:\n",
    "        print('%9s : %s' % (x.id, x.formula))\n",
    "\n",
    "    print(\"\")\n",
    "    print(\"Genes\")\n",
    "    print(\"-----\")\n",
    "    for x in model.genes:\n",
    "        associated_ids = (i.id for i in x.reactions)\n",
    "        print(\"%s is associated with reactions: %s\" %\n",
    "              (x.id, \"{\" + \", \".join(associated_ids) + \"}\"))\n",
    "\n",
    "printModelObjects(modelHF)"
   ]
  },
  {
   "cell_type": "code",
   "execution_count": 15,
   "metadata": {},
   "outputs": [],
   "source": [
    "# Iterate through the the objects in the model\n",
    "def namestr(obj, namespace):\n",
    "    return [name for name in namespace if namespace[name] is obj]\n",
    "\n",
    "def printModelObjects(model):\n",
    "    with open(\"Output{m}.txt\".format(m=namestr(model, globals())), \"w\") as text_file:\n",
    "#     print(\"Purchase Amount: {}\".format(TotalAmount), file=text_file)\n",
    "        print(\"Reactions\", file=text_file)\n",
    "        print(\"---------\", file=text_file)\n",
    "        for x in model.reactions:\n",
    "            print(\"%s : %s\" % (x.id, x.reaction), file=text_file)\n",
    "\n",
    "        print(\"\", file=text_file)\n",
    "        print(\"Metabolites\", file=text_file)\n",
    "        print(\"-----------\", file=text_file)\n",
    "        for x in model.metabolites:\n",
    "            print('%9s : %s' % (x.id, x.formula), file=text_file)\n",
    "\n",
    "        print(\"\", file=text_file)\n",
    "        print(\"Genes\", file=text_file)\n",
    "        print(\"-----\", file=text_file)\n",
    "        for x in model.genes:\n",
    "            associated_ids = (i.id for i in x.reactions)\n",
    "            print(\"%s is associated with reactions: %s\" %\n",
    "                  (x.id, \"{\" + \", \".join(associated_ids) + \"}\"), file=text_file)\n",
    "\n",
    "printModelObjects(modelHF)\n",
    "printModelObjects(modelWE)"
   ]
  },
  {
   "cell_type": "code",
   "execution_count": 2,
   "metadata": {},
   "outputs": [],
   "source": [
    "## Experiment 1: Compare growth rates between the different diets\n",
    "def get_growthRate(model):\n",
    "    # Set no oxygen uptake\n",
    "    modelHF.reactions.get_by_id(\"EX_o2(e)\").lower_bound = 0.\n",
    "    # ensure that the biomass reaction is set as the objective function\n",
    "    modelHF.objective = \"EX_biomass(e)\"\n",
    "    return model.optimize().objective_value\n",
    "\n",
    "# print(\"Growth rate with western Diet: {gr}\".format(gr=get_growthRate(modelEU)))\n",
    "# print(\"Growth rate with high fiber Diet: {gr}\".format(gr=get_growthRate(modelHF)))"
   ]
  },
  {
   "cell_type": "code",
   "execution_count": 3,
   "metadata": {},
   "outputs": [
    {
     "name": "stdout",
     "output_type": "stream",
     "text": [
      "818\n"
     ]
    }
   ],
   "source": [
    "## Experiment 1-LargeScale\n",
    "\n",
    "file_names = []\n",
    "for (dirpath, dirnames, filenames) in walk(\"Agora-1.02-Western/mat/\"):\n",
    "    file_names.extend(filenames)\n",
    "    break\n",
    "random.shuffle(file_names)\n",
    "print(len(file_names))"
   ]
  },
  {
   "cell_type": "code",
   "execution_count": 31,
   "metadata": {},
   "outputs": [],
   "source": [
    "# col_microbiome = ['species_name', 'WE_growth', 'HF_growth']\n",
    "# microbiomeDB = pd.DataFrame(columns=col_microbiome)\n",
    "\n",
    "microbiomeDB = pd.read_excel(\"microbiomeDB_results.xlsx\")\n",
    "# microbiomeDB.head()"
   ]
  },
  {
   "cell_type": "code",
   "execution_count": 20,
   "metadata": {
    "scrolled": true
   },
   "outputs": [],
   "source": [
    "for i in range(len(file_names)):\n",
    "    if file_names[i][:-4] not in microbiomeDB.species_name.tolist():\n",
    "        MBRow = len(microbiomeDB)\n",
    "        microbiomeDB.loc[MBRow] = [0 for _ in range(len(microbiomeDB.columns))]\n",
    "\n",
    "        microbiomeDB.species_name[MBRow] = file_names[i][:-4]\n",
    "        modelWE = cobra.io.load_matlab_model(\"Agora-1.02-Western/mat/\" + file_names[i])\n",
    "        modelHF = cobra.io.load_matlab_model(\"Agora-1.02-HighFiber/mat/\" + file_names[i])\n",
    "        microbiomeDB.WE_growth[MBRow] = get_growthRate(modelWE)\n",
    "        microbiomeDB.HF_growth[MBRow] = get_growthRate(modelHF)\n",
    "        print(\"Done with {i}/{tot} - WE: {WE}; HF: {HF}\".format(i=MBRow, tot=len(file_names), WE=microbiomeDB.WE_growth[MBRow], HF=microbiomeDB.HF_growth[MBRow]))\n",
    "        microbiomeDB.to_excel(\"microbiomeDB_resultsW-HF.xlsx\")\n",
    "\n"
   ]
  },
  {
   "cell_type": "code",
   "execution_count": 22,
   "metadata": {
    "scrolled": true
   },
   "outputs": [],
   "source": [
    "for i in range(len(microbiomeDB)):\n",
    "    if microbiomeDB.WE_growth[i] == 0:\n",
    "        modelWE = cobra.io.load_matlab_model(\"Agora-1.02-Western/mat/\" + microbiomeDB.species_name[i] + \".mat\")\n",
    "        microbiomeDB.WE_growth[i] = get_growthRate(modelWE)\n",
    "        print(\"Done with {i}/{tot} - WE: {WE}; HF: {HF}\".format(i=i, tot=len(microbiomeDB), WE=microbiomeDB.WE_growth[i], HF=microbiomeDB.HF_growth[i]))\n",
    "        microbiomeDB.to_excel(\"microbiomeDB_results.xlsx\")\n"
   ]
  },
  {
   "cell_type": "code",
   "execution_count": 19,
   "metadata": {},
   "outputs": [
    {
     "data": {
      "image/png": "[encoded data removed]",
      "text/plain": [
       "<Figure size 576x360 with 1 Axes>"
      ]
     },
     "metadata": {
      "needs_background": "light"
     },
     "output_type": "display_data"
    }
   ],
   "source": [
    "microbiomeDB = pd.read_excel(\"microbiomeDB_results.xlsx\")\n",
    "microbiomeDB[\"d_growth\"] = microbiomeDB.WE_growth - microbiomeDB.HF_growth\n",
    "\n",
    "fig, ax = plt.subplots(figsize=(8, 5))\n",
    "microbiomeDB.hist(column=\"d_growth\", ax=ax)\n",
    "ax.set_title(\"\")\n",
    "ax.set_xlabel(\"Difference in growth rate (1/hour)\")\n",
    "ax.set_ylabel(\"Frequency\")\n",
    "fig.savefig('figure1.png', dpi=1000)"
   ]
  },
  {
   "cell_type": "code",
   "execution_count": 39,
   "metadata": {},
   "outputs": [],
   "source": [
    "# Histogram by phylum\n",
    "modelInfo = pd.read_excel(\"ModelInformation.xlsx\")\n",
    "# microbiomeDB[\"phylum\"] = microbiomeDB.species_name.map(modelInfo.Phylum)\n",
    "# microbiomeDB.head()\n",
    "\n",
    "microbiomeDB = microbiomeDB.merge(modelInfo[[\"ModelAGORA\", \"Phylum\"]], left_on=\"species_name\", right_on=\"ModelAGORA\", how=\"left\")\n",
    "microbiomeDB.head()\n",
    "microbiomeDB.to_excel(\"microbiomeDB_results_wPhylum.xlsx\")"
   ]
  },
  {
   "cell_type": "code",
   "execution_count": 44,
   "metadata": {},
   "outputs": [
    {
     "data": {
      "text/plain": [
       "Text(0, 0.5, 'Frequency')"
      ]
     },
     "execution_count": 44,
     "metadata": {},
     "output_type": "execute_result"
    },
    {
     "data": {
      "image/png": "[encoded data removed]",
      "text/plain": [
       "<Figure size 576x360 with 1 Axes>"
      ]
     },
     "metadata": {
      "needs_background": "light"
     },
     "output_type": "display_data"
    }
   ],
   "source": [
    "microbiomeDB[\"d_growth\"] = microbiomeDB.WE_growth - microbiomeDB.HF_growth\n",
    "fig, ax = plt.subplots(figsize=(8, 5))\n",
    "microbiomeDB[microbiomeDB.Phylum_x == \"Actinobacteria\"].hist(column=\"d_growth\", ax=ax)\n",
    "ax.set_title(\"\")\n",
    "ax.set_xlabel(\"Difference in growth rate (1/hour)\")\n",
    "ax.set_ylabel(\"Frequency\")\n",
    "# fig.savefig('figure2.png', dpi=1000)\n",
    "\n"
   ]
  },
  {
   "cell_type": "code",
   "execution_count": 55,
   "metadata": {},
   "outputs": [
    {
     "data": {
      "text/plain": [
       "Text(0.5, 0, 'Difference in growth rate (1/hour)')"
      ]
     },
     "execution_count": 55,
     "metadata": {},
     "output_type": "execute_result"
    },
    {
     "data": {
      "image/png": "[encoded data removed]",
      "text/plain": [
       "<Figure size 576x648 with 3 Axes>"
      ]
     },
     "metadata": {
      "needs_background": "light"
     },
     "output_type": "display_data"
    }
   ],
   "source": [
    "f, (ax1, ax2, ax3) = plt.subplots(3, 1, sharey=True, sharex=True, figsize=(8, 9))\n",
    "\n",
    "axes = [ax1, ax2, ax3]\n",
    "phyl = [\"Actinobacteria\", \"Bacteroidetes\", \"Firmicutes\"]\n",
    "\n",
    "for i in range(3):\n",
    "    microbiomeDB[microbiomeDB.Phylum_x == phyl[i]].hist(column=\"d_growth\", ax=axes[i], bins=16)\n",
    "    axes[i].set_title(\"Phylum: \" + phyl[i])\n",
    "    axes[i].set_ylabel(\"Frequency\")\n",
    "ax3.set_xlabel(\"Difference in growth rate (1/hour)\")\n",
    "\n",
    "# f.savefig('figure2.png', dpi=1000)"
   ]
  },
  {
   "cell_type": "code",
   "execution_count": 57,
   "metadata": {},
   "outputs": [],
   "source": [
    "## Experiment 2: Robustness Analysis by diet\n",
    "\n",
    "def robustness_byDiet(modelWE, modelHF):\n",
    "#     modelWE = cobra.io.load_matlab_model(\"Agora-1.02-Western/mat/\" + file_name)\n",
    "#     modelHF = cobra.io.load_matlab_model(\"Agora-1.02-HighFiber/mat/\" + file_name)\n",
    "\n",
    "    modelWE.reactions.get_by_id(\"EX_o2(e)\").lower_bound = 0\n",
    "    modelWE.reactions.get_by_id(\"EX_o2(e)\").upper_bound = 0\n",
    "    modelHF.reactions.get_by_id(\"EX_o2(e)\").lower_bound = 0\n",
    "    modelHF.reactions.get_by_id(\"EX_o2(e)\").upper_bound = 0\n",
    "    \n",
    "    ratesWE = []\n",
    "    ratesHF = []\n",
    "    \n",
    "    for i in range(20):\n",
    "        modelWE.reactions.get_by_id(\"EX_glc_D(e)\").lower_bound = -i\n",
    "        modelWE.reactions.get_by_id(\"EX_glc_D(e)\").upper_bound = -i\n",
    "        modelWE.objective = \"EX_biomass(e)\"\n",
    "        ratesWE.append(modelWE.optimize().objective_value)\n",
    "        modelHF.reactions.get_by_id(\"EX_glc_D(e)\").lower_bound = -i\n",
    "        modelHF.reactions.get_by_id(\"EX_glc_D(e)\").upper_bound = -i\n",
    "        modelHF.objective = \"EX_biomass(e)\"\n",
    "        ratesHF.append(modelHF.optimize().objective_value)\n",
    "    return ratesWE, ratesHF\n",
    "    \n",
    "file_name = \"Bacteroides_caccae_ATCC_43185.mat\"\n",
    "modelWE = cobra.io.load_matlab_model(\"Agora-1.02-Western/mat/\" + file_name)\n",
    "modelHF = cobra.io.load_matlab_model(\"Agora-1.02-HighFiber/mat/\" + file_name)\n",
    "ratesWE, ratesHF = robustness_byDiet(modelWE, modelHF)"
   ]
  },
  {
   "cell_type": "code",
   "execution_count": 70,
   "metadata": {},
   "outputs": [
    {
     "name": "stdout",
     "output_type": "stream",
     "text": [
      "Growth rate with western Diet: 0.861879649194333\n",
      "Growth rate with high fiber Diet: 0.8618796491942655\n"
     ]
    },
    {
     "data": {
      "image/png": "[encoded data removed]",
      "text/plain": [
       "<Figure size 432x288 with 1 Axes>"
      ]
     },
     "metadata": {
      "needs_background": "light"
     },
     "output_type": "display_data"
    }
   ],
   "source": [
    "print(\"Growth rate with western Diet: {gr}\".format(gr=get_growthRate(modelWE)))\n",
    "print(\"Growth rate with high fiber Diet: {gr}\".format(gr=get_growthRate(modelHF)))\n",
    "# print(ratesWE)\n",
    "# print(ratesHF)\n",
    "\n",
    "plt.plot(ratesWE, label=\"western diet\")\n",
    "plt.plot(ratesHF, label=\"high fiber diet\")\n",
    "plt.xlabel(r\"Glucose uptake rate ($mmol$ $gDW^{-1}$ $hr^{-1}$)\")\n",
    "plt.ylabel(r\"Growth rate ($hr^{-1}$)\")\n",
    "plt.legend()\n",
    "# plt.show()\n",
    "plt.savefig('figure3.png', dpi=1000)\n"
   ]
  },
  {
   "cell_type": "markdown",
   "metadata": {},
   "source": []
  },
  {
   "cell_type": "code",
   "execution_count": null,
   "metadata": {},
   "outputs": [],
   "source": []
  }
 ],
 "metadata": {
  "kernelspec": {
   "display_name": "Python 3",
   "language": "python",
   "name": "python3"
  },
  "language_info": {
   "codemirror_mode": {
    "name": "ipython",
    "version": 3
   },
   "file_extension": ".py",
   "mimetype": "text/x-python",
   "name": "python",
   "nbconvert_exporter": "python",
   "pygments_lexer": "ipython3",
   "version": "3.6.4"
  }
 },
 "nbformat": 4,
 "nbformat_minor": 2
}
